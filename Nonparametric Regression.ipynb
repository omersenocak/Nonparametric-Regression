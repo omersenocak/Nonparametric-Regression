{
 "cells": [
  {
   "cell_type": "code",
   "execution_count": 3,
   "metadata": {},
   "outputs": [],
   "source": [
    "import numpy as np\n",
    "import matplotlib.pyplot as plt"
   ]
  },
  {
   "cell_type": "code",
   "execution_count": 21,
   "metadata": {
    "scrolled": true
   },
   "outputs": [
    {
     "name": "stdout",
     "output_type": "stream",
     "text": [
      "(272,)\n",
      "(272,)\n",
      "(122,)\n",
      "(122,)\n"
     ]
    }
   ],
   "source": [
    "data_set = np.genfromtxt(\"univariate_regression_data_set.csv\", skip_header=1, delimiter = \",\", )\n",
    "\n",
    "\n",
    "x_train = data_set[:,0]\n",
    "y_train = data_set[:,1].astype(int)\n",
    "x_test = data_set[150:,0]\n",
    "y_test = data_set[150:,1].astype(int)\n",
    "\n",
    "print(x_train.shape)\n",
    "print(y_train.shape)\n",
    "print(x_test.shape)\n",
    "print(y_test.shape)"
   ]
  },
  {
   "cell_type": "code",
   "execution_count": 27,
   "metadata": {},
   "outputs": [
    {
     "name": "stdout",
     "output_type": "stream",
     "text": [
      "5.1 1.6 272 16.492422502470642\n"
     ]
    }
   ],
   "source": [
    "import math\n",
    "max_x=max(x_train)\n",
    "min_x=min(x_train)\n",
    "n=len(x_train)\n",
    "bin_n=math.sqrt(n)\n",
    "\n",
    "\n",
    "print(max_x,min_x,n,bin_n)"
   ]
  },
  {
   "cell_type": "code",
   "execution_count": 4,
   "metadata": {},
   "outputs": [
    {
     "name": "stdout",
     "output_type": "stream",
     "text": [
      "[3.6   1.8   3.333 2.283 4.533 2.883 4.7   3.6   1.95  4.35  1.833 3.917\n",
      " 4.2   1.75  4.7   2.167 1.75  4.8   1.6   4.25  1.8   1.75  3.45  3.067\n",
      " 4.533 3.6   1.967 4.083 3.85  4.433 4.3   4.467 3.367 4.033 3.833 2.017\n",
      " 1.867 4.833 1.833 4.783 4.35  1.883 4.567 1.75  4.533 3.317 3.833 2.1\n",
      " 4.633 2.    4.8   4.716 1.833 4.833 1.733 4.883 3.717 1.667 4.567 4.317\n",
      " 2.233 4.5   1.75  4.8   1.817 4.4   4.167 4.7   2.067 4.7   4.033 1.967\n",
      " 4.5   4.    1.983 5.067 2.017 4.567 3.883 3.6   4.133 4.333 4.1   2.633\n",
      " 4.067 4.933 3.95  4.517 2.167 4.    2.2   4.333 1.867 4.817 1.833 4.3\n",
      " 4.667 3.75  1.867 4.9   2.483 4.367 2.1   4.5   4.05  1.867 4.7   1.783\n",
      " 4.85  3.683 4.733 2.3   4.9   4.417 1.7   4.633 2.317 4.6   1.817 4.417\n",
      " 2.617 4.067 4.25  1.967 4.6   3.767 1.917 4.5   2.267 4.65  1.867 4.167\n",
      " 2.8   4.333 1.833 4.383 1.883 4.933 2.033 3.733 4.233 2.233 4.533 4.817\n",
      " 4.333 1.983 4.633 2.017 5.1   1.8  ]\n"
     ]
    }
   ],
   "source": [
    "print(x_train)"
   ]
  },
  {
   "cell_type": "code",
   "execution_count": 3,
   "metadata": {},
   "outputs": [
    {
     "name": "stdout",
     "output_type": "stream",
     "text": [
      "[79 54 74 62 85 55 88 85 51 85 54 84 78 47 83 52 62 84 52 79 51 47 78 69\n",
      " 74 83 55 76 78 79 73 77 66 80 74 52 48 80 59 90 80 58 84 58 73 83 64 53\n",
      " 82 59 75 90 54 80 54 83 71 64 77 81 59 84 48 82 60 92 78 78 65 73 82 56\n",
      " 79 71 62 76 60 78 76 83 75 82 70 65 73 88 76 80 48 86 60 90 50 78 63 72\n",
      " 84 75 51 82 62 88 49 83 81 47 84 52 86 81 75 59 89 79 59 81 50 85 59 87\n",
      " 53 69 77 56 88 81 45 82 55 90 45 83 56 89 46 82 51 86 53 79 81 60 82 77\n",
      " 76 59 80 49 96 53]\n"
     ]
    }
   ],
   "source": [
    "print(y_train)"
   ]
  },
  {
   "cell_type": "code",
   "execution_count": 4,
   "metadata": {},
   "outputs": [],
   "source": [
    "origin = 1.5\n",
    "bin_width = 0.37\n",
    "\n",
    "max_x = max(x_train)\n",
    "\n",
    "left_borders = np.arange(origin, max_x, bin_width)\n",
    "right_borders = np.arange(origin + bin_width, max_x + bin_width, bin_width)\n",
    "data_interval = np.arange(origin, max_x, 0.001)"
   ]
  },
  {
   "cell_type": "code",
   "execution_count": 5,
   "metadata": {},
   "outputs": [
    {
     "name": "stdout",
     "output_type": "stream",
     "text": [
      "[1.5  1.87 2.24 2.61 2.98 3.35 3.72 4.09 4.46 4.83]\n",
      "[1.87 2.24 2.61 2.98 3.35 3.72 4.09 4.46 4.83 5.2 ]\n",
      "[1.5   1.501 1.502 ... 5.097 5.098 5.099]\n"
     ]
    }
   ],
   "source": [
    "print(left_borders)\n",
    "print(right_borders)\n",
    "print(data_interval)"
   ]
  },
  {
   "cell_type": "markdown",
   "metadata": {},
   "source": [
    "# Regressogram"
   ]
  },
  {
   "cell_type": "code",
   "execution_count": 9,
   "metadata": {},
   "outputs": [],
   "source": [
    "def regressogram(index):\n",
    "    sums = 0\n",
    "    count = 0\n",
    "    for i in range(x_train.shape[0]):\n",
    "        if(left_borders[index] < x_train[i] and x_train[i] <= right_borders[index]):\n",
    "            sums +=  y_train[i]\n",
    "            count += 1\n",
    "    result = sums / count\n",
    "    return result"
   ]
  },
  {
   "cell_type": "code",
   "execution_count": 10,
   "metadata": {},
   "outputs": [],
   "source": [
    "p_hat = [regressogram(i) for i in range(left_borders.shape[0])]"
   ]
  },
  {
   "cell_type": "code",
   "execution_count": 11,
   "metadata": {},
   "outputs": [
    {
     "data": {
      "image/png": "[encoded data removed]",
      "text/plain": [
       "<Figure size 720x360 with 1 Axes>"
      ]
     },
     "metadata": {
      "needs_background": "light"
     },
     "output_type": "display_data"
    }
   ],
   "source": [
    "plt.figure(figsize=(10,5))\n",
    "plt.scatter(x_train, y_train, color=\"blue\")\n",
    "plt.scatter(x_test, y_test, color=\"red\")\n",
    "for j in range(len(left_borders)):\n",
    "    plt.plot([left_borders[j], right_borders[j]], [p_hat[j], p_hat[j]], \"k-\")\n",
    "for j in range(len(left_borders) - 1):\n",
    "    plt.plot([right_borders[j], right_borders[j]], [p_hat[j], p_hat[j + 1]], \"k-\")    \n",
    "plt.title(\"Regressogram\")\n",
    "plt.show()"
   ]
  },
  {
   "cell_type": "code",
   "execution_count": 12,
   "metadata": {},
   "outputs": [
    {
     "name": "stdout",
     "output_type": "stream",
     "text": [
      "Regressogram => RMSE is 5.962617204275407  when h is 0.37\n"
     ]
    }
   ],
   "source": [
    "rmse = 0\n",
    "for i in range(0,len(x_test)):\n",
    "    for j in range(0,len(left_borders)):\n",
    "        if(left_borders[j] < x_test[i] and x_test[i] <= right_borders[j]):\n",
    "            err = (y_test[i] - p_hat[int((x_test[i]-origin)/bin_width)])**2\n",
    "            rmse += err\n",
    "result = np.sqrt(rmse / len(x_test))\n",
    "print(\"Regressogram => RMSE is\", result, \" when h is\", bin_width)"
   ]
  },
  {
   "cell_type": "markdown",
   "metadata": {},
   "source": [
    "# Mean Smoother"
   ]
  },
  {
   "cell_type": "code",
   "execution_count": 28,
   "metadata": {},
   "outputs": [],
   "source": [
    "def mean_smoother(index):\n",
    "    sums = 0\n",
    "    count = 0\n",
    "    for i in range(x_train.shape[0]):\n",
    "        if(np.abs((data_interval[index]-x_train[i])/bin_width) < 0.5):\n",
    "            sums +=  y_train[i]\n",
    "            count += 1\n",
    "    result = sums / count\n",
    "    return result"
   ]
  },
  {
   "cell_type": "code",
   "execution_count": 29,
   "metadata": {},
   "outputs": [],
   "source": [
    "p_hat_ms = np.array([mean_smoother(i) for i in range(data_interval.shape[0])])"
   ]
  },
  {
   "cell_type": "code",
   "execution_count": 30,
   "metadata": {},
   "outputs": [
    {
     "data": {
      "image/png": "[encoded data removed]",
      "text/plain": [
       "<Figure size 720x360 with 1 Axes>"
      ]
     },
     "metadata": {
      "needs_background": "light"
     },
     "output_type": "display_data"
    }
   ],
   "source": [
    "plt.figure(figsize=(10,5))\n",
    "plt.scatter(x_train, y_train, color=\"blue\")\n",
    "plt.scatter(x_test, y_test, color=\"red\")\n",
    "plt.plot(data_interval, p_hat_ms, \"k\")\n",
    "plt.title(\"Mean Smoother\")\n",
    "plt.show()"
   ]
  },
  {
   "cell_type": "code",
   "execution_count": 31,
   "metadata": {},
   "outputs": [
    {
     "name": "stdout",
     "output_type": "stream",
     "text": [
      "Running Mean Smoother => RMSE is 6.085457746924621  when h is 0.37\n"
     ]
    }
   ],
   "source": [
    "Rmse = np.sqrt(np.sum([(y_test[i] - p_hat_ms[int((x_test[i]-origin)*1000)])**2 for i in range(len(x_test))]) / len(x_test))\n",
    "print(\"Running Mean Smoother => RMSE is\", Rmse, \" when h is\", bin_width)"
   ]
  },
  {
   "cell_type": "markdown",
   "metadata": {},
   "source": [
    "# Kernel Smoother"
   ]
  },
  {
   "cell_type": "code",
   "execution_count": 36,
   "metadata": {},
   "outputs": [],
   "source": [
    "def kernel_smoother(index):\n",
    "    sums = 0\n",
    "    counts = 0\n",
    "    for i in range(0,len(x_train)): \n",
    "        g = 1/np.sqrt(2* np.pi) * np.exp(-1* ((data_interval[index] - x_train[i]) / bin_width) ** 2 / 2)\n",
    "        sums += (g * y_train[i])\n",
    "        counts += g\n",
    "    result = sums / counts\n",
    "    return result"
   ]
  },
  {
   "cell_type": "code",
   "execution_count": 37,
   "metadata": {},
   "outputs": [],
   "source": [
    "p_hat_kernel = np.array([kernel_smoother(i) for i in range(data_interval.shape[0])])"
   ]
  },
  {
   "cell_type": "code",
   "execution_count": 38,
   "metadata": {},
   "outputs": [
    {
     "data": {
      "image/png": "[encoded data removed]",
      "text/plain": [
       "<Figure size 720x360 with 1 Axes>"
      ]
     },
     "metadata": {
      "needs_background": "light"
     },
     "output_type": "display_data"
    }
   ],
   "source": [
    "plt.figure(figsize=(10,5))\n",
    "plt.scatter(x_train, y_train, color=\"blue\")\n",
    "plt.scatter(x_test, y_test, color=\"red\")\n",
    "plt.plot(data_interval, p_hat_kernel, \"k\")\n",
    "plt.title(\"Kernel Smoother\")\n",
    "plt.show()"
   ]
  },
  {
   "cell_type": "code",
   "execution_count": 39,
   "metadata": {},
   "outputs": [
    {
     "name": "stdout",
     "output_type": "stream",
     "text": [
      "Kernel Smoother => RMSE is 5.874019808179156  when h is 0.37\n"
     ]
    }
   ],
   "source": [
    "Rmse = np.sqrt(np.sum([(y_test[i] - p_hat_kernel[int((x_test[i]-origin)*1000)])**2 for i in range(len(x_test))]) / len(x_test))\n",
    "print(\"Kernel Smoother => RMSE is\", Rmse, \" when h is\", bin_width)"
   ]
  },
  {
   "cell_type": "code",
   "execution_count": null,
   "metadata": {},
   "outputs": [],
   "source": []
  }
 ],
 "metadata": {
  "kernelspec": {
   "display_name": "Python 3 (ipykernel)",
   "language": "python",
   "name": "python3"
  },
  "language_info": {
   "codemirror_mode": {
    "name": "ipython",
    "version": 3
   },
   "file_extension": ".py",
   "mimetype": "text/x-python",
   "name": "python",
   "nbconvert_exporter": "python",
   "pygments_lexer": "ipython3",
   "version": "3.8.13"
  }
 },
 "nbformat": 4,
 "nbformat_minor": 4
}
